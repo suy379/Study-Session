{
 "cells": [
  {
   "cell_type": "markdown",
   "metadata": {},
   "source": [
    "# Numpy Basic"
   ]
  },
  {
   "cell_type": "markdown",
   "metadata": {},
   "source": [
    "- 대량 데이터의 배열 연산을 가능하게 하므로, 빠른 배열 연산 속도를 보장함.\n",
    "- 데이터 핸들링은 numpy보다 pandas를 주로 이용함."
   ]
  },
  {
   "cell_type": "markdown",
   "metadata": {},
   "source": [
    "<목차>\n",
    "- 데이터 타입 이해하기(dtype,astype)\n",
    "- np.array 쉽게 생성하기(arange,linspace,random) /번외: np.zeros, np.ones, np.full\n",
    "- 많이 이용하는 메서드(reshape,tolist)\n",
    "- 넘파이 연산(기본,np.sum,np.dot,np.sort)"
   ]
  },
  {
   "cell_type": "code",
   "execution_count": 1,
   "metadata": {},
   "outputs": [],
   "source": [
    "#import numpy\n",
    "import numpy as np"
   ]
  },
  {
   "cell_type": "code",
   "execution_count": 2,
   "metadata": {},
   "outputs": [
    {
     "name": "stdout",
     "output_type": "stream",
     "text": [
      "array1 type: <class 'numpy.ndarray'>\n",
      "array1 array 형태: (3,)\n",
      "array2 type: <class 'numpy.ndarray'>\n",
      "array2 array 형태: (2, 3)\n",
      "array3 type: <class 'numpy.ndarray'>\n",
      "array3 array 형태: (1, 3)\n",
      "array4 type: <class 'numpy.ndarray'>\n",
      "array4 array 형태: (1, 3, 3)\n",
      "array5 type: <class 'numpy.ndarray'>\n",
      "array5 array 형태: (1, 2)\n"
     ]
    }
   ],
   "source": [
    "#numpy의 기반 데이터 타입: ndarray (다차원 배열을 쉽게 생성하고 다양한 연산 수행 가능)\n",
    "##array가 몇 차원인지 제대로 이해하자!\n",
    "##리스트 []는 1차원, [[]]는 2차원으로 받아들이기\n",
    "\n",
    "array1=np.array([1,2,3])\n",
    "print('array1 type:', type(array1))\n",
    "print('array1 array 형태:', array1.shape) #1차원 array\n",
    "\n",
    "array2=np.array([[1,2,3],[2,3,4]])\n",
    "print('array2 type:', type(array2))\n",
    "print('array2 array 형태:', array2.shape) #2차원 array\n",
    "\n",
    "array3=np.array([[1,2,3]])\n",
    "print('array3 type:', type(array3))\n",
    "print('array3 array 형태:', array3.shape) #이건 몇차원일까요?\n",
    "\n",
    "array4=np.array([[[1,2,3],[4,5,6],[7,8,9]]])\n",
    "print('array4 type:', type(array4))\n",
    "print('array4 array 형태:', array4.shape) #이것은?\n",
    "\n",
    "array5=np.array([[[[1,2,3],[4,5,6]],[7,8,9]]])\n",
    "print('array5 type:', type(array5))\n",
    "print('array5 array 형태:', array5.shape) #위의 array4와 다른 점이 무엇일까요?"
   ]
  },
  {
   "cell_type": "code",
   "execution_count": 3,
   "metadata": {},
   "outputs": [
    {
     "name": "stdout",
     "output_type": "stream",
     "text": [
      "array1: 1차원, array2: 2차원, array3:  2차원, array4:   3차원, array5:    2차원\n"
     ]
    }
   ],
   "source": [
    "print('array1: {:0}차원, array2: {:1}차원, array3: {:2}차원, array4: {:3}차원, array5: {:4}차원'\n",
    "      .format(array1.ndim,array2.ndim,array3.ndim,array4.ndim, array5.ndim))"
   ]
  },
  {
   "cell_type": "code",
   "execution_count": 2,
   "metadata": {},
   "outputs": [
    {
     "name": "stdout",
     "output_type": "stream",
     "text": [
      "<class 'list'>\n",
      "<class 'numpy.ndarray'>\n",
      "[1 2 3] int32\n",
      "['1' '2' 'GH'] <U11\n",
      "[  1.   2. 119.] float64\n"
     ]
    }
   ],
   "source": [
    "#numpy 연산: 같은 데이터 타입끼리만 가능함 ##실전에서, 데이터 타입은 꼭 확인해야 하는 것 중 하나!\n",
    "#데이터 타입 확인: dtype()\n",
    "#데이터 타입: int형(integer)/float형(소수)/str형(문자, ' '가 붙어있음.)\n",
    "\n",
    "list1=[1,2,3]\n",
    "print(type(list1))\n",
    "array1=np.array(list1) #list를 array로 변경\n",
    "print(type(array1))\n",
    "\n",
    "print(array1, array1.dtype) #int형 array는 모두 'int32'\n",
    "\n",
    "\n",
    "#하지만 int형 외 string, float형이 섞여 있다면, 데이터 타입은?\n",
    "list2=[1,2,'GH']\n",
    "array2=np.array(list2)\n",
    "print(array2,array2.dtype)\n",
    "\n",
    "list3=[1,2,119.0]\n",
    "array3=np.array(list3)\n",
    "print(array3,array3.dtype)"
   ]
  },
  {
   "cell_type": "code",
   "execution_count": 5,
   "metadata": {},
   "outputs": [
    {
     "name": "stdout",
     "output_type": "stream",
     "text": [
      "int32 float64\n",
      "['1' '2' '3'] <U11\n"
     ]
    }
   ],
   "source": [
    "#데이터 타입을 변경하고 싶을 땐: astype()\n",
    "array_int=np.array([1,2,3])\n",
    "array_float=array_int.astype('float64')\n",
    "print(array_int.dtype, array_float.dtype)\n",
    "\n",
    "array_str=array_int.astype('str')\n",
    "print(array_str,array_str.dtype)"
   ]
  },
  {
   "cell_type": "code",
   "execution_count": 5,
   "metadata": {},
   "outputs": [
    {
     "name": "stdout",
     "output_type": "stream",
     "text": [
      "[0. 2. 4. 6. 8.]\n",
      "[0 1 2 3 4 5 6 7 8 9]\n",
      "[0.   0.25 0.5  0.75 1.  ]\n",
      "[[ 2.4414773   0.87369884  0.15483613]\n",
      " [-0.18610976  0.69597409  0.51547889]]\n",
      "[[0.54340494 0.27836939]\n",
      " [0.42451759 0.84477613]]\n"
     ]
    }
   ],
   "source": [
    "#ndarray 쉽게 생성하기- arrange, linspace, random\n",
    "##주로 테스트용으로 데이터를 만들거나, 대규모의 데이터를 일괄적으로 초기화할 경우 사용\n",
    "\n",
    "#np.arange([start],stop,[step],dtype=None) #stop 포함x\n",
    "print(np.arange(0,10,2,np.float))\n",
    " #stop만 써도 된다.\n",
    "arr=np.arange(10)\n",
    "print(arr)\n",
    "\n",
    "#np.linspace(start,stop,num) #stop 포함o\n",
    "print(np.linspace(0,1,5))\n",
    "\n",
    "#np.random.normal(mean,sd,size)\n",
    "print(np.random.normal(0,1,(2,3)))\n",
    "##seed를 줄 수 있음!\n",
    "np.random.seed(100)\n",
    "print(np.random.random((2,2)))"
   ]
  },
  {
   "cell_type": "code",
   "execution_count": 7,
   "metadata": {
    "scrolled": true
   },
   "outputs": [
    {
     "name": "stdout",
     "output_type": "stream",
     "text": [
      "[[0 0]\n",
      " [0 0]\n",
      " [0 0]]\n",
      "[[1. 1.]\n",
      " [1. 1.]\n",
      " [1. 1.]]\n",
      "[[5 5 5]\n",
      " [5 5 5]\n",
      " [5 5 5]]\n"
     ]
    }
   ],
   "source": [
    "#######참고#########\n",
    "\n",
    "#np.zeros\n",
    "print(np.zeros((3,2),dtype='int32'))#float64가 디폴트\n",
    "\n",
    "#np.ones\n",
    "print(np.ones((3,2),dtype='float64')) #float64가 디폴트\n",
    "\n",
    "#np.full\n",
    "print(np.full((3,3),5))"
   ]
  },
  {
   "cell_type": "code",
   "execution_count": 8,
   "metadata": {},
   "outputs": [
    {
     "name": "stdout",
     "output_type": "stream",
     "text": [
      "array1:\n",
      " [0 1 2 3 4 5 6 7 8 9]\n",
      "array2:\n",
      " [[0 1 2 3 4]\n",
      " [5 6 7 8 9]]\n"
     ]
    }
   ],
   "source": [
    "#ndarray의 차원과 크기를 변경하는: reshape()\n",
    "array1=np.arange(10)\n",
    "print('array1:\\n', array1)\n",
    "\n",
    "array2=array1.reshape(2,5)\n",
    "print('array2:\\n', array2)"
   ]
  },
  {
   "cell_type": "code",
   "execution_count": 9,
   "metadata": {},
   "outputs": [
    {
     "ename": "ValueError",
     "evalue": "cannot reshape array of size 3 into shape (4,5)",
     "output_type": "error",
     "traceback": [
      "\u001b[1;31m---------------------------------------------------------------------------\u001b[0m",
      "\u001b[1;31mValueError\u001b[0m                                Traceback (most recent call last)",
      "\u001b[1;32m<ipython-input-9-4d5d2704e176>\u001b[0m in \u001b[0;36m<module>\u001b[1;34m\u001b[0m\n\u001b[0;32m      1\u001b[0m \u001b[1;31m#reshape()는 변경할 수 없는 사이즈를 쓰면 오류 발생, 정확한 사이즈를 써줍시다\u001b[0m\u001b[1;33m\u001b[0m\u001b[1;33m\u001b[0m\u001b[1;33m\u001b[0m\u001b[0m\n\u001b[1;32m----> 2\u001b[1;33m \u001b[0marray3\u001b[0m\u001b[1;33m=\u001b[0m\u001b[0marray3\u001b[0m\u001b[1;33m.\u001b[0m\u001b[0mreshape\u001b[0m\u001b[1;33m(\u001b[0m\u001b[1;36m4\u001b[0m\u001b[1;33m,\u001b[0m\u001b[1;36m5\u001b[0m\u001b[1;33m)\u001b[0m\u001b[1;33m\u001b[0m\u001b[1;33m\u001b[0m\u001b[0m\n\u001b[0m\u001b[0;32m      3\u001b[0m \u001b[0mprint\u001b[0m\u001b[1;33m(\u001b[0m\u001b[1;34m'array3:\\n'\u001b[0m\u001b[1;33m,\u001b[0m \u001b[0marray3\u001b[0m\u001b[1;33m)\u001b[0m\u001b[1;33m\u001b[0m\u001b[1;33m\u001b[0m\u001b[0m\n",
      "\u001b[1;31mValueError\u001b[0m: cannot reshape array of size 3 into shape (4,5)"
     ]
    }
   ],
   "source": [
    "#reshape()는 변경할 수 없는 사이즈를 쓰면 오류 발생, 정확한 사이즈를 써줍시다\n",
    "array3=array3.reshape(4,5)\n",
    "print('array3:\\n', array3) "
   ]
  },
  {
   "cell_type": "code",
   "execution_count": 10,
   "metadata": {},
   "outputs": [
    {
     "name": "stdout",
     "output_type": "stream",
     "text": [
      "arr1:\n",
      " [0 1 2 3 4 5 6 7 8 9]\n",
      "arr2:\n",
      " [[0 1 2 3 4]\n",
      " [5 6 7 8 9]] arr2 shape: (2, 5)\n",
      "arr3:\n",
      " [[0 1]\n",
      " [2 3]\n",
      " [4 5]\n",
      " [6 7]\n",
      " [8 9]] arr3 shape: (5, 2)\n"
     ]
    }
   ],
   "source": [
    "#실전에선 reshape의 인자로 -1을 많이 써요! #행과 열 중 하나는 지정하고 -1을 써주면 자동으로 완료\n",
    "arr1=np.arange(10)\n",
    "arr2=arr1.reshape(-1,5)\n",
    "arr3=arr1.reshape(5,-1)\n",
    "\n",
    "print('arr1:\\n',arr1)\n",
    "print('arr2:\\n',arr2,'arr2 shape:',arr2.shape)\n",
    "print('arr3:\\n',arr3,'arr3 shape:',arr3.shape)"
   ]
  },
  {
   "cell_type": "code",
   "execution_count": 11,
   "metadata": {},
   "outputs": [
    {
     "ename": "ValueError",
     "evalue": "cannot reshape array of size 10 into shape (3,newaxis)",
     "output_type": "error",
     "traceback": [
      "\u001b[1;31m---------------------------------------------------------------------------\u001b[0m",
      "\u001b[1;31mValueError\u001b[0m                                Traceback (most recent call last)",
      "\u001b[1;32m<ipython-input-11-ea3b24e0f7fe>\u001b[0m in \u001b[0;36m<module>\u001b[1;34m\u001b[0m\n\u001b[0;32m      1\u001b[0m \u001b[1;31m#그렇다고 이건 안돼요....\u001b[0m\u001b[1;33m\u001b[0m\u001b[1;33m\u001b[0m\u001b[1;33m\u001b[0m\u001b[0m\n\u001b[1;32m----> 2\u001b[1;33m \u001b[0marr4\u001b[0m\u001b[1;33m=\u001b[0m\u001b[0marr1\u001b[0m\u001b[1;33m.\u001b[0m\u001b[0mreshape\u001b[0m\u001b[1;33m(\u001b[0m\u001b[1;36m3\u001b[0m\u001b[1;33m,\u001b[0m\u001b[1;33m-\u001b[0m\u001b[1;36m1\u001b[0m\u001b[1;33m)\u001b[0m\u001b[1;33m\u001b[0m\u001b[1;33m\u001b[0m\u001b[0m\n\u001b[0m\u001b[0;32m      3\u001b[0m \u001b[0mprint\u001b[0m\u001b[1;33m(\u001b[0m\u001b[0marr4\u001b[0m\u001b[1;33m)\u001b[0m\u001b[1;33m\u001b[0m\u001b[1;33m\u001b[0m\u001b[0m\n",
      "\u001b[1;31mValueError\u001b[0m: cannot reshape array of size 10 into shape (3,newaxis)"
     ]
    }
   ],
   "source": [
    "#그렇다고 이건 안돼요....\n",
    "arr4=arr1.reshape(3,-1)\n",
    "print(arr4)"
   ]
  },
  {
   "cell_type": "code",
   "execution_count": 12,
   "metadata": {},
   "outputs": [
    {
     "name": "stdout",
     "output_type": "stream",
     "text": [
      "array3d:\n",
      " [[[0 1]\n",
      "  [2 3]]\n",
      "\n",
      " [[4 5]\n",
      "  [6 7]]]\n",
      "array5:\n",
      " [[0]\n",
      " [1]\n",
      " [2]\n",
      " [3]\n",
      " [4]\n",
      " [5]\n",
      " [6]\n",
      " [7]]\n",
      "array6:\n",
      " [[0]\n",
      " [1]\n",
      " [2]\n",
      " [3]\n",
      " [4]\n",
      " [5]\n",
      " [6]\n",
      " [7]]\n"
     ]
    }
   ],
   "source": [
    "#가장 많이 쓰이는 건 reshape(-1,1)! 기억해두면 좋아요!\n",
    "##왜냐하면, reshape(-1,1)은 원본 ndarray가 어떤 형태라도 2차원으로 변환되기 때문\n",
    "\n",
    "array1=np.arange(8) #1차원\n",
    "array3d=array1.reshape((2,2,2))\n",
    "print('array3d:\\n',array3d) #3차원\n",
    "\n",
    "array5=array3d.reshape(-1,1)\n",
    "print('array5:\\n',array5) #3->2차원\n",
    "\n",
    "array6=array1.reshape(-1,1)\n",
    "print('array6:\\n',array6) #1->2차원"
   ]
  },
  {
   "cell_type": "code",
   "execution_count": 13,
   "metadata": {},
   "outputs": [
    {
     "name": "stdout",
     "output_type": "stream",
     "text": [
      "[ 0  1  2  3  4  5  6  7  8  9 10 11 12 13 14]\n",
      "[0, 1, 2, 3, 4, 5, 6, 7, 8, 9, 10, 11, 12, 13, 14]\n",
      "[ 0  1  2  3  4  5  6  7  8  9 10 11 12 13 14]\n"
     ]
    }
   ],
   "source": [
    "#array를 list로 바꾸고 싶을 땐: tolist() #이것도 많이 활용돼요!\n",
    "arr=np.arange(15)\n",
    "arr_to_list=arr.tolist()\n",
    "print(arr)\n",
    "print(arr_to_list)\n",
    "\n",
    "#다시 list를 array로 바꾸고 싶다면?\n",
    "list_to_arr=np.array(arr_to_list)\n",
    "print(list_to_arr)"
   ]
  },
  {
   "cell_type": "code",
   "execution_count": 14,
   "metadata": {},
   "outputs": [],
   "source": [
    "#numpy 연산 모음-기본, np.dot, np.sum, np.sort"
   ]
  },
  {
   "cell_type": "code",
   "execution_count": 15,
   "metadata": {},
   "outputs": [
    {
     "name": "stdout",
     "output_type": "stream",
     "text": [
      "[[2 0 2 1 2 2]\n",
      " [2 2 1 0 0 3]\n",
      " [0 3 0 2 0 3]\n",
      " [1 1 2 2 3 0]\n",
      " [0 3 1 1 1 3]\n",
      " [0 0 3 3 3 3]]\n",
      "[[1 3 1 1 2 3]\n",
      " [3 3 0 2 1 1]\n",
      " [2 3 2 3 1 3]\n",
      " [0 2 1 2 0 3]\n",
      " [3 1 2 0 2 0]\n",
      " [0 2 1 2 1 0]]\n"
     ]
    }
   ],
   "source": [
    "#기본 연산\n",
    "tmp=np.random.randint(0,4,size=(6,6)) #0이상 4 미만 정수 랜덤하게 뽑은 6x6 array\n",
    "tmp2=np.random.randint(0,4,size=(6,6))\n",
    "print(tmp)\n",
    "print(tmp2)"
   ]
  },
  {
   "cell_type": "code",
   "execution_count": 16,
   "metadata": {},
   "outputs": [
    {
     "name": "stdout",
     "output_type": "stream",
     "text": [
      "[[3 3 3 2 4 5]\n",
      " [5 5 1 2 1 4]\n",
      " [2 6 2 5 1 6]\n",
      " [1 3 3 4 3 3]\n",
      " [3 4 3 1 3 3]\n",
      " [0 2 4 5 4 3]]\n",
      "[[2 0 2 1 4 6]\n",
      " [6 6 0 0 0 3]\n",
      " [0 9 0 6 0 9]\n",
      " [0 2 2 4 0 0]\n",
      " [0 3 2 0 2 0]\n",
      " [0 0 3 6 3 0]]\n",
      "[[3 1 3 2 3 3]\n",
      " [3 3 2 1 1 4]\n",
      " [1 4 1 3 1 4]\n",
      " [2 2 3 3 4 1]\n",
      " [1 4 2 2 2 4]\n",
      " [1 1 4 4 4 4]]\n",
      "[[200   0 200 100 200 200]\n",
      " [200 200 100   0   0 300]\n",
      " [  0 300   0 200   0 300]\n",
      " [100 100 200 200 300   0]\n",
      " [  0 300 100 100 100 300]\n",
      " [  0   0 300 300 300 300]]\n"
     ]
    }
   ],
   "source": [
    "#element-wise하게 덧셈, 곱셈\n",
    "print(tmp+tmp2)\n",
    "print(tmp*tmp2)\n",
    "\n",
    "#당연히 스칼라(scalar)에 대해서도 가능합니다.\n",
    "print(tmp+1)\n",
    "print(tmp*100)"
   ]
  },
  {
   "cell_type": "code",
   "execution_count": 17,
   "metadata": {},
   "outputs": [
    {
     "data": {
      "text/plain": [
       "array([[12, 20, 13, 14, 12, 15],\n",
       "       [10, 21,  7, 15, 10, 11],\n",
       "       [ 9, 19,  5, 16,  6,  9],\n",
       "       [17, 19, 13, 13, 11, 16],\n",
       "       [14, 21,  8, 17,  9,  9],\n",
       "       [15, 24, 18, 21, 12, 18]])"
      ]
     },
     "execution_count": 17,
     "metadata": {},
     "output_type": "execute_result"
    }
   ],
   "source": [
    "#행렬의 내적(곱)-np.dot()\n",
    "np.dot(tmp,tmp2) "
   ]
  },
  {
   "cell_type": "code",
   "execution_count": 18,
   "metadata": {
    "scrolled": true
   },
   "outputs": [
    {
     "name": "stdout",
     "output_type": "stream",
     "text": [
      "[[[1 2]\n",
      "  [3 4]]\n",
      "\n",
      " [[5 6]\n",
      "  [7 8]]]\n"
     ]
    }
   ],
   "source": [
    "arr=np.arange(1,9).reshape(2,2,2)\n",
    "print(arr)"
   ]
  },
  {
   "cell_type": "code",
   "execution_count": 19,
   "metadata": {},
   "outputs": [
    {
     "name": "stdout",
     "output_type": "stream",
     "text": [
      "[[ 6  8]\n",
      " [10 12]]\n",
      "[[ 4  6]\n",
      " [12 14]]\n"
     ]
    }
   ],
   "source": [
    "#행렬의 합-np.sum()\n",
    "#축 기준을 무엇으로 설정하느냐에 따라 값이 달라짐!\n",
    "print(np.sum(arr,axis=0)) #row 방향 합 \n",
    "print(np.sum(arr,axis=1)) #col 방향 합"
   ]
  },
  {
   "cell_type": "code",
   "execution_count": 20,
   "metadata": {},
   "outputs": [
    {
     "name": "stdout",
     "output_type": "stream",
     "text": [
      "원본 행렬: [3 1 9 5]\n",
      "np.sort()로 정리된 행렬: [1 3 5 9]\n",
      "내림차순으로 정리된 행렬: [9 5 3 1]\n",
      "--------2차원에서는------\n",
      "원본 행렬:\n",
      " [[ 8 12]\n",
      " [ 7  1]]\n",
      "row방향 정렬:\n",
      " [[ 7  1]\n",
      " [ 8 12]]\n",
      "col방향 정렬:\n",
      " [[ 8 12]\n",
      " [ 1  7]]\n"
     ]
    }
   ],
   "source": [
    "#행렬 정렬하기-np.sort()\n",
    "org_array=np.array([3,1,9,5])\n",
    "print('원본 행렬:', org_array)\n",
    "print('np.sort()로 정리된 행렬:',np.sort(org_array))\n",
    "print('내림차순으로 정리된 행렬:',np.sort(org_array)[::-1]) #내림차순으로 하려면 [::-1]을 적용\n",
    "print('--------2차원에서는------')\n",
    "array2d=np.array([[8,12],[7,1]])\n",
    "print('원본 행렬:\\n',array2d)\n",
    "print('row방향 정렬:\\n',np.sort(array2d,axis=0))\n",
    "print('col방향 정렬:\\n',np.sort(array2d,axis=1))"
   ]
  }
 ],
 "metadata": {
  "kernelspec": {
   "display_name": "Python 3",
   "language": "python",
   "name": "python3"
  },
  "language_info": {
   "codemirror_mode": {
    "name": "ipython",
    "version": 3
   },
   "file_extension": ".py",
   "mimetype": "text/x-python",
   "name": "python",
   "nbconvert_exporter": "python",
   "pygments_lexer": "ipython3",
   "version": "3.7.1"
  }
 },
 "nbformat": 4,
 "nbformat_minor": 2
}
